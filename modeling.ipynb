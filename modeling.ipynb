{
 "cells": [
  {
   "cell_type": "code",
   "execution_count": 1,
   "metadata": {},
   "outputs": [
    {
     "name": "stderr",
     "output_type": "stream",
     "text": [
      "C:\\Users\\Pabma\\AppData\\Local\\Temp\\ipykernel_18444\\3539060139.py:2: DeprecationWarning: \n",
      "Pyarrow will become a required dependency of pandas in the next major release of pandas (pandas 3.0),\n",
      "(to allow more performant data types, such as the Arrow string type, and better interoperability with other libraries)\n",
      "but was not found to be installed on your system.\n",
      "If this would cause problems for you,\n",
      "please provide us feedback at https://github.com/pandas-dev/pandas/issues/54466\n",
      "        \n",
      "  import pandas as pd\n"
     ]
    }
   ],
   "source": [
    "import psycopg2\n",
    "import pandas as pd\n",
    "import matplotlib.pyplot as plt\n",
    "import numpy as np\n",
    "from sklearn.impute import KNNImputer\n",
    "from joblib import parallel_backend\n",
    "from sklearn.model_selection import train_test_split, RepeatedKFold\n",
    "from sklearn.metrics import mean_squared_error, mean_absolute_error, r2_score\n",
    "from sklearn.preprocessing import PowerTransformer, StandardScaler\n",
    "from sklearn.ensemble import RandomForestRegressor\n",
    "from sklearn.pipeline import Pipeline\n",
    "from sklearn.compose import ColumnTransformer\n",
    "from sklearn.model_selection import GridSearchCV\n",
    "from hummingbird.ml import convert, load"
   ]
  },
  {
   "cell_type": "code",
   "execution_count": 2,
   "metadata": {},
   "outputs": [],
   "source": [
    "ventas_oil = pd.read_csv('ventas_oil_imputed.csv')\n",
    "ventas_elec = pd.read_csv('ventas_elec_imputed.csv')"
   ]
  },
  {
   "cell_type": "code",
   "execution_count": 3,
   "metadata": {},
   "outputs": [
    {
     "data": {
      "text/plain": [
       "price_amount                     float64\n",
       "makeid                           float64\n",
       "manufacturerprice                float64\n",
       "km                               float64\n",
       "vehicleyear                      float64\n",
       "etiqueta_type_id                 float64\n",
       "provinceid                       float64\n",
       "horsepower                       float64\n",
       "maxspeed                         float64\n",
       "acceleration                     float64\n",
       "combustible_type_id              float64\n",
       "body_type_id                     float64\n",
       "transmision_type_id              float64\n",
       "doors                            float64\n",
       "seatingcapacity                  float64\n",
       "colores_type_id                  float64\n",
       "dimensionsinmillimeterswidth     float64\n",
       "dimensionsinmillimetersheight    float64\n",
       "dimensionsinmillimeterslength    float64\n",
       "weight                           float64\n",
       "tankcapacityinliters             float64\n",
       "trunkcapacityinliters            float64\n",
       "consumptionurban                 float64\n",
       "consumptionmixed                 float64\n",
       "consumptionextraurban            float64\n",
       "co2emissionsgramsperkm           float64\n",
       "dtype: object"
      ]
     },
     "execution_count": 3,
     "metadata": {},
     "output_type": "execute_result"
    }
   ],
   "source": [
    "ventas_oil.dtypes\n"
   ]
  },
  {
   "cell_type": "code",
   "execution_count": 4,
   "metadata": {},
   "outputs": [],
   "source": [
    "ventas_oil['makeid'] = ventas_oil['makeid'].astype('category')\n",
    "ventas_oil['etiqueta_type_id'] = ventas_oil['etiqueta_type_id'].astype('category')\n",
    "ventas_oil['provinceid'] = ventas_oil['provinceid'].astype('category')\n",
    "ventas_oil['transmision_type_id'] = ventas_oil['transmision_type_id'].astype('category')\n",
    "ventas_oil['body_type_id'] = ventas_oil['body_type_id'].astype('category')\n",
    "ventas_oil['combustible_type_id'] = ventas_oil['combustible_type_id'].astype('category')\n",
    "ventas_oil['colores_type_id'] = ventas_oil['colores_type_id'].astype('category')\n",
    "ventas_oil['lPrice'] = np.log10(ventas_oil['price_amount'])"
   ]
  },
  {
   "cell_type": "code",
   "execution_count": 5,
   "metadata": {},
   "outputs": [
    {
     "data": {
      "text/plain": [
       "price_amount                      float64\n",
       "makeid                           category\n",
       "manufacturerprice                 float64\n",
       "km                                float64\n",
       "vehicleyear                       float64\n",
       "etiqueta_type_id                 category\n",
       "provinceid                       category\n",
       "horsepower                        float64\n",
       "maxspeed                          float64\n",
       "acceleration                      float64\n",
       "combustible_type_id              category\n",
       "body_type_id                     category\n",
       "transmision_type_id              category\n",
       "doors                             float64\n",
       "seatingcapacity                   float64\n",
       "colores_type_id                  category\n",
       "dimensionsinmillimeterswidth      float64\n",
       "dimensionsinmillimetersheight     float64\n",
       "dimensionsinmillimeterslength     float64\n",
       "weight                            float64\n",
       "tankcapacityinliters              float64\n",
       "trunkcapacityinliters             float64\n",
       "consumptionurban                  float64\n",
       "consumptionmixed                  float64\n",
       "consumptionextraurban             float64\n",
       "co2emissionsgramsperkm            float64\n",
       "lPrice                            float64\n",
       "dtype: object"
      ]
     },
     "execution_count": 5,
     "metadata": {},
     "output_type": "execute_result"
    }
   ],
   "source": [
    "ventas_oil.dtypes"
   ]
  },
  {
   "cell_type": "code",
   "execution_count": 6,
   "metadata": {},
   "outputs": [
    {
     "data": {
      "text/plain": [
       "price_amount                     float64\n",
       "makeid                           float64\n",
       "manufacturerprice                float64\n",
       "km                               float64\n",
       "vehicleyear                      float64\n",
       "etiqueta_type_id                 float64\n",
       "provinceid                       float64\n",
       "horsepower                       float64\n",
       "maxspeed                         float64\n",
       "acceleration                     float64\n",
       "combustible_type_id              float64\n",
       "body_type_id                     float64\n",
       "transmision_type_id              float64\n",
       "doors                            float64\n",
       "seatingcapacity                  float64\n",
       "colores_type_id                  float64\n",
       "dimensionsinmillimeterswidth     float64\n",
       "dimensionsinmillimetersheight    float64\n",
       "dimensionsinmillimeterslength    float64\n",
       "weight                           float64\n",
       "tankcapacityinliters             float64\n",
       "trunkcapacityinliters            float64\n",
       "consumptionurban                 float64\n",
       "consumptionmixed                 float64\n",
       "consumptionextraurban            float64\n",
       "co2emissionsgramsperkm           float64\n",
       "batteryvoltage                   float64\n",
       "batterykwh                       float64\n",
       "chargingtime                     float64\n",
       "chargingtimefast                 float64\n",
       "dtype: object"
      ]
     },
     "execution_count": 6,
     "metadata": {},
     "output_type": "execute_result"
    }
   ],
   "source": [
    "ventas_elec.dtypes"
   ]
  },
  {
   "cell_type": "code",
   "execution_count": 7,
   "metadata": {},
   "outputs": [],
   "source": [
    "ventas_elec['makeid'] = ventas_elec['makeid'].astype('category')\n",
    "ventas_elec['etiqueta_type_id'] = ventas_elec['etiqueta_type_id'].astype('category')\n",
    "ventas_elec['provinceid'] = ventas_elec['provinceid'].astype('category')\n",
    "ventas_elec['transmision_type_id'] = ventas_elec['transmision_type_id'].astype('category')\n",
    "ventas_elec['body_type_id'] = ventas_elec['body_type_id'].astype('category')\n",
    "ventas_elec['combustible_type_id'] = ventas_elec['combustible_type_id'].astype('category')\n",
    "ventas_elec['colores_type_id'] = ventas_elec['colores_type_id'].astype('category')\n",
    "ventas_elec['lPrice'] = np.log10(ventas_elec['price_amount'])"
   ]
  },
  {
   "cell_type": "code",
   "execution_count": 8,
   "metadata": {},
   "outputs": [
    {
     "data": {
      "text/plain": [
       "price_amount                      float64\n",
       "makeid                           category\n",
       "manufacturerprice                 float64\n",
       "km                                float64\n",
       "vehicleyear                       float64\n",
       "etiqueta_type_id                 category\n",
       "provinceid                       category\n",
       "horsepower                        float64\n",
       "maxspeed                          float64\n",
       "acceleration                      float64\n",
       "combustible_type_id              category\n",
       "body_type_id                     category\n",
       "transmision_type_id              category\n",
       "doors                             float64\n",
       "seatingcapacity                   float64\n",
       "colores_type_id                  category\n",
       "dimensionsinmillimeterswidth      float64\n",
       "dimensionsinmillimetersheight     float64\n",
       "dimensionsinmillimeterslength     float64\n",
       "weight                            float64\n",
       "tankcapacityinliters              float64\n",
       "trunkcapacityinliters             float64\n",
       "consumptionurban                  float64\n",
       "consumptionmixed                  float64\n",
       "consumptionextraurban             float64\n",
       "co2emissionsgramsperkm            float64\n",
       "batteryvoltage                    float64\n",
       "batterykwh                        float64\n",
       "chargingtime                      float64\n",
       "chargingtimefast                  float64\n",
       "lPrice                            float64\n",
       "dtype: object"
      ]
     },
     "execution_count": 8,
     "metadata": {},
     "output_type": "execute_result"
    }
   ],
   "source": [
    "ventas_elec.dtypes"
   ]
  },
  {
   "cell_type": "code",
   "execution_count": 12,
   "metadata": {},
   "outputs": [],
   "source": [
    "# Separamos en training y test 50% para training y 50% para test\n",
    "ventas_oil_X = ventas_oil.drop(columns=['price_amount', 'lPrice'])\n",
    "ventas_oil_y = ventas_oil['lPrice']\n",
    "ventas_oil_X_train, ventas_oil_X_test, ventas_oil_y_train, ventas_oil_y_test = train_test_split(ventas_oil_X, ventas_oil_y, test_size=0.45, random_state=123)\n",
    "\n",
    "# Separamos en training y test 75% para training y 25% para test\n",
    "ventas_elec_X = ventas_elec.drop(columns=['price_amount', 'lPrice'])\n",
    "ventas_elec_y = ventas_elec['lPrice']\n",
    "ventas_elec_X_train, ventas_elec_X_test, ventas_elec_y_train, ventas_elec_y_test = train_test_split(ventas_elec_X, ventas_elec_y, test_size=0.25, random_state=123)\n",
    "\n",
    "# El 55% de los datos de training se dividen en un 80% para training y 20% para validación\n",
    "ventas_oil_X_train_split, ventas_oil_X_val, ventas_oil_y_train_split, ventas_oil_y_val = train_test_split(ventas_oil_X_train, ventas_oil_y_train, test_size=0.2, random_state=456)\n",
    "\n",
    "# El 80% de los datos de training se dividen en un 80% para training y 20% para validación\n",
    "ventas_elec_X_train_split, ventas_elec_X_val, ventas_elec_y_train_split, ventas_elec_y_val = train_test_split(ventas_elec_X_train, ventas_elec_y_train, test_size=0.2, random_state=456)\n"
   ]
  },
  {
   "cell_type": "code",
   "execution_count": 24,
   "metadata": {},
   "outputs": [],
   "source": [
    "# Crear objetos validacion cruzada para trial, tuning y assessment\n",
    "rk_trial = RepeatedKFold(n_splits=5, n_repeats=1, random_state=123)\n",
    "rk_tuning = RepeatedKFold(n_splits=5, n_repeats=1, random_state=456)\n",
    "rk_assessment = RepeatedKFold(n_splits=5, n_repeats=1, random_state=789)\n",
    "\n",
    "def rmse(y_true, y_pred):\n",
    "    return np.sqrt(mean_squared_error(y_true, y_pred))\n",
    "\n",
    "def mae(y_true, y_pred):\n",
    "    return mean_absolute_error(y_true, y_pred)\n",
    "\n",
    "def rsq(y_true, y_pred):\n",
    "    return r2_score(y_true, y_pred)\n",
    "\n",
    "numeric_features_oil = ventas_oil_X_train.select_dtypes(include=['int', 'float']).columns\n",
    "preprocessor_oil = ColumnTransformer(\n",
    "    transformers=[\n",
    "        ('yeo_johnson', PowerTransformer(method='yeo-johnson'), ['km']),\n",
    "        ('scaling', StandardScaler(), numeric_features_oil)\n",
    "    ])\n",
    "\n",
    "numeric_features_elec = ventas_elec_X_train.select_dtypes(include=['int', 'float']).columns\n",
    "preprocessor_elec = ColumnTransformer(\n",
    "    transformers=[\n",
    "        ('yeo_johnson', PowerTransformer(method='yeo-johnson'), ['km']),\n",
    "        ('scaling', StandardScaler(), numeric_features_elec)\n",
    "    ])\n",
    "\n",
    "rf_model_trial = RandomForestRegressor(n_estimators=1000, min_samples_leaf=15)\n",
    "rf_pipeline_trial_oil = Pipeline(steps=[('preprocessor', preprocessor_oil), ('model', rf_model_trial)])\n",
    "rf_pipeline_trial_elec = Pipeline(steps=[('preprocessor', preprocessor_elec), ('model', rf_model_trial)])"
   ]
  },
  {
   "cell_type": "code",
   "execution_count": 20,
   "metadata": {},
   "outputs": [
    {
     "name": "stdout",
     "output_type": "stream",
     "text": [
      "TRAIN: [    0     1     3 ... 85754 85756 85757] TEST: [    2     8    10 ... 85747 85755 85758]\n",
      "TRAIN: [    0     2     3 ... 85755 85757 85758] TEST: [    1     5     7 ... 85751 85754 85756]\n",
      "TRAIN: [    0     1     2 ... 85756 85757 85758] TEST: [   16    19    21 ... 85738 85739 85740]\n",
      "TRAIN: [    0     1     2 ... 85755 85756 85758] TEST: [    3    14    28 ... 85746 85750 85757]\n",
      "TRAIN: [    1     2     3 ... 85756 85757 85758] TEST: [    0     4     6 ... 85749 85752 85753]\n"
     ]
    }
   ],
   "source": [
    "resultados_oil = {}\n",
    "index = 0\n",
    "for train_index, test_index in rk_trial.split(ventas_oil_X_train):\n",
    "    print(\"TRAIN:\", train_index, \"TEST:\", test_index)\n",
    "    X_trial_train, X_trial_test = ventas_oil_X_train.iloc[train_index], ventas_oil_X_train.iloc[test_index]\n",
    "    y_trial_train, y_trial_test = ventas_oil_y_train.iloc[train_index], ventas_oil_y_train.iloc[test_index]\n",
    "\n",
    "    with parallel_backend('threading', n_jobs=8):\n",
    "        rf_pipeline_trial_oil.fit(X_trial_train, y_trial_train)\n",
    "    \n",
    "    y_pred = rf_pipeline_trial_oil.predict(X_trial_test)\n",
    "    rmse_value = rmse(y_trial_test, y_pred)\n",
    "    mae_value = mae(y_trial_test, y_pred)\n",
    "    rsq_value = rsq(y_trial_test, y_pred)\n",
    "    metricS = {'RMSE': rmse_value, 'MAE': mae_value, 'R^2': rsq_value}\n",
    "    index += 1\n",
    "    resultados_oil[f'Iteración_{index}'] = {'RMSE': rmse_value,\n",
    "                                      'MAE': mae_value,\n",
    "                                      'R^2': rsq_value}\n",
    "    "
   ]
  },
  {
   "cell_type": "code",
   "execution_count": 25,
   "metadata": {},
   "outputs": [
    {
     "name": "stdout",
     "output_type": "stream",
     "text": [
      "TRAIN: [   0    1    2 ... 7320 7321 7322] TEST: [   4    6    9 ... 7310 7312 7313]\n",
      "TRAIN: [   0    1    2 ... 7320 7321 7322] TEST: [  10   12   15 ... 7299 7301 7318]\n",
      "TRAIN: [   0    1    2 ... 7318 7319 7320] TEST: [   5   18   19 ... 7316 7321 7322]\n",
      "TRAIN: [   2    3    4 ... 7320 7321 7322] TEST: [   0    1    7 ... 7306 7317 7319]\n",
      "TRAIN: [   0    1    4 ... 7319 7321 7322] TEST: [   2    3    8 ... 7307 7315 7320]\n"
     ]
    }
   ],
   "source": [
    "resultados_elec = {}\n",
    "index = 0\n",
    "for train_index, test_index in rk_trial.split(ventas_elec_X_train):\n",
    "    print(\"TRAIN:\", train_index, \"TEST:\", test_index)\n",
    "    X_trial_train, X_trial_test = ventas_elec_X_train.iloc[train_index], ventas_elec_X_train.iloc[test_index]\n",
    "    y_trial_train, y_trial_test = ventas_elec_y_train.iloc[train_index], ventas_elec_y_train.iloc[test_index]\n",
    "\n",
    "    with parallel_backend('threading', n_jobs=8):\n",
    "        rf_pipeline_trial_elec.fit(X_trial_train, y_trial_train)\n",
    "    \n",
    "    y_pred = rf_pipeline_trial_elec.predict(X_trial_test)\n",
    "    rmse_value = rmse(y_trial_test, y_pred)\n",
    "    mae_value = mae(y_trial_test, y_pred)\n",
    "    rsq_value = rsq(y_trial_test, y_pred)\n",
    "    metricS = {'RMSE': rmse_value, 'MAE': mae_value, 'R^2': rsq_value}\n",
    "    index += 1\n",
    "    resultados_elec[f'Iteración_{index}'] = {'RMSE': rmse_value,\n",
    "                                      'MAE': mae_value,\n",
    "                                      'R^2': rsq_value}"
   ]
  },
  {
   "cell_type": "code",
   "execution_count": 22,
   "metadata": {},
   "outputs": [
    {
     "name": "stdout",
     "output_type": "stream",
     "text": [
      "Iteración_1 :  {'RMSE': 0.09827536319095209, 'MAE': 0.06250605992130741, 'R^2': 0.9120503778350576}\n",
      "\n",
      "Iteración_2 :  {'RMSE': 0.09495735431835219, 'MAE': 0.061333026888323684, 'R^2': 0.9188287295747345}\n",
      "\n",
      "Iteración_3 :  {'RMSE': 0.0940589907316913, 'MAE': 0.06105159432854758, 'R^2': 0.9179003405088485}\n",
      "\n",
      "Iteración_4 :  {'RMSE': 0.09558931726580508, 'MAE': 0.06171662988295184, 'R^2': 0.9161772374093423}\n",
      "\n",
      "Iteración_5 :  {'RMSE': 0.09623033794511875, 'MAE': 0.06177299379084846, 'R^2': 0.9156090440832573}\n",
      "\n"
     ]
    }
   ],
   "source": [
    "for key, value in resultados_oil.items():\n",
    "    print(key, \": \", value)\n",
    "    print()"
   ]
  },
  {
   "cell_type": "code",
   "execution_count": 26,
   "metadata": {},
   "outputs": [
    {
     "name": "stdout",
     "output_type": "stream",
     "text": [
      "Iteración_1 :  {'RMSE': 0.05415098137248, 'MAE': 0.03453586986846301, 'R^2': 0.931434943156957}\n",
      "\n",
      "Iteración_2 :  {'RMSE': 0.050387462553125414, 'MAE': 0.032523631738270026, 'R^2': 0.9419842841588791}\n",
      "\n",
      "Iteración_3 :  {'RMSE': 0.051390339702198855, 'MAE': 0.032918490414070654, 'R^2': 0.9335481077454139}\n",
      "\n",
      "Iteración_4 :  {'RMSE': 0.048354910987534375, 'MAE': 0.03262291998184615, 'R^2': 0.9422105314077719}\n",
      "\n",
      "Iteración_5 :  {'RMSE': 0.051637580766156016, 'MAE': 0.031682135026915664, 'R^2': 0.9341847101370689}\n",
      "\n"
     ]
    }
   ],
   "source": [
    "for key, value in resultados_elec.items():\n",
    "    print(key, \": \", value)\n",
    "    print()"
   ]
  }
 ],
 "metadata": {
  "kernelspec": {
   "display_name": "Python 3",
   "language": "python",
   "name": "python3"
  },
  "language_info": {
   "codemirror_mode": {
    "name": "ipython",
    "version": 3
   },
   "file_extension": ".py",
   "mimetype": "text/x-python",
   "name": "python",
   "nbconvert_exporter": "python",
   "pygments_lexer": "ipython3",
   "version": "3.12.0"
  }
 },
 "nbformat": 4,
 "nbformat_minor": 2
}
