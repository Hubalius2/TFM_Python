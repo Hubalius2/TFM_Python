{
 "cells": [
  {
   "cell_type": "code",
   "execution_count": 1,
   "metadata": {},
   "outputs": [
    {
     "name": "stderr",
     "output_type": "stream",
     "text": [
      "C:\\Users\\Pabma\\AppData\\Local\\Temp\\ipykernel_31752\\3539060139.py:2: DeprecationWarning: \n",
      "Pyarrow will become a required dependency of pandas in the next major release of pandas (pandas 3.0),\n",
      "(to allow more performant data types, such as the Arrow string type, and better interoperability with other libraries)\n",
      "but was not found to be installed on your system.\n",
      "If this would cause problems for you,\n",
      "please provide us feedback at https://github.com/pandas-dev/pandas/issues/54466\n",
      "        \n",
      "  import pandas as pd\n"
     ]
    }
   ],
   "source": [
    "import psycopg2\n",
    "import pandas as pd\n",
    "import matplotlib.pyplot as plt\n",
    "import numpy as np\n",
    "from sklearn.impute import KNNImputer\n",
    "from joblib import parallel_backend\n",
    "from sklearn.model_selection import train_test_split, RepeatedKFold\n",
    "from sklearn.metrics import mean_squared_error, mean_absolute_error, r2_score\n",
    "from sklearn.preprocessing import PowerTransformer, StandardScaler\n",
    "from sklearn.ensemble import RandomForestRegressor\n",
    "from sklearn.pipeline import Pipeline\n",
    "from sklearn.compose import ColumnTransformer\n",
    "from sklearn.model_selection import GridSearchCV\n",
    "from hummingbird.ml import convert, load"
   ]
  },
  {
   "cell_type": "code",
   "execution_count": 2,
   "metadata": {},
   "outputs": [],
   "source": [
    "ventas_oil = pd.read_csv('ventas_oil_imputed.csv')\n",
    "ventas_elec = pd.read_csv('ventas_elec_imputed.csv')"
   ]
  },
  {
   "cell_type": "code",
   "execution_count": 3,
   "metadata": {},
   "outputs": [
    {
     "data": {
      "text/plain": [
       "price_amount                     float64\n",
       "makeid                           float64\n",
       "manufacturerprice                float64\n",
       "km                               float64\n",
       "vehicleyear                      float64\n",
       "etiqueta_type_id                 float64\n",
       "provinceid                       float64\n",
       "horsepower                       float64\n",
       "maxspeed                         float64\n",
       "acceleration                     float64\n",
       "combustible_type_id              float64\n",
       "body_type_id                     float64\n",
       "transmision_type_id              float64\n",
       "doors                            float64\n",
       "seatingcapacity                  float64\n",
       "colores_type_id                  float64\n",
       "dimensionsinmillimeterswidth     float64\n",
       "dimensionsinmillimetersheight    float64\n",
       "dimensionsinmillimeterslength    float64\n",
       "weight                           float64\n",
       "tankcapacityinliters             float64\n",
       "trunkcapacityinliters            float64\n",
       "consumptionurban                 float64\n",
       "consumptionmixed                 float64\n",
       "consumptionextraurban            float64\n",
       "co2emissionsgramsperkm           float64\n",
       "dtype: object"
      ]
     },
     "execution_count": 3,
     "metadata": {},
     "output_type": "execute_result"
    }
   ],
   "source": [
    "ventas_oil.dtypes\n"
   ]
  },
  {
   "cell_type": "code",
   "execution_count": 9,
   "metadata": {},
   "outputs": [],
   "source": [
    "ventas_oil['makeid'] = ventas_oil['makeid'].astype('category')\n",
    "ventas_oil['etiqueta_type_id'] = ventas_oil['etiqueta_type_id'].astype('category')\n",
    "ventas_oil['provinceid'] = ventas_oil['provinceid'].astype('category')\n",
    "ventas_oil['transmision_type_id'] = ventas_oil['transmision_type_id'].astype('category')\n",
    "ventas_oil['body_type_id'] = ventas_oil['body_type_id'].astype('category')\n",
    "ventas_oil['combustible_type_id'] = ventas_oil['combustible_type_id'].astype('category')\n",
    "ventas_oil['colores_type_id'] = ventas_oil['colores_type_id'].astype('category')\n",
    "ventas_oil['lPrice'] = np.log10(ventas_oil['price_amount'])"
   ]
  },
  {
   "cell_type": "code",
   "execution_count": 10,
   "metadata": {},
   "outputs": [
    {
     "data": {
      "text/plain": [
       "price_amount                      float64\n",
       "makeid                           category\n",
       "manufacturerprice                 float64\n",
       "km                                float64\n",
       "vehicleyear                       float64\n",
       "etiqueta_type_id                 category\n",
       "provinceid                       category\n",
       "horsepower                        float64\n",
       "maxspeed                          float64\n",
       "acceleration                      float64\n",
       "combustible_type_id              category\n",
       "body_type_id                     category\n",
       "transmision_type_id              category\n",
       "doors                             float64\n",
       "seatingcapacity                   float64\n",
       "colores_type_id                  category\n",
       "dimensionsinmillimeterswidth      float64\n",
       "dimensionsinmillimetersheight     float64\n",
       "dimensionsinmillimeterslength     float64\n",
       "weight                            float64\n",
       "tankcapacityinliters              float64\n",
       "trunkcapacityinliters             float64\n",
       "consumptionurban                  float64\n",
       "consumptionmixed                  float64\n",
       "consumptionextraurban             float64\n",
       "co2emissionsgramsperkm            float64\n",
       "lPrice                            float64\n",
       "dtype: object"
      ]
     },
     "execution_count": 10,
     "metadata": {},
     "output_type": "execute_result"
    }
   ],
   "source": [
    "ventas_oil.dtypes"
   ]
  },
  {
   "cell_type": "code",
   "execution_count": 6,
   "metadata": {},
   "outputs": [
    {
     "data": {
      "text/plain": [
       "price_amount                     float64\n",
       "makeid                           float64\n",
       "manufacturerprice                float64\n",
       "km                               float64\n",
       "vehicleyear                      float64\n",
       "etiqueta_type_id                 float64\n",
       "provinceid                       float64\n",
       "horsepower                       float64\n",
       "maxspeed                         float64\n",
       "acceleration                     float64\n",
       "combustible_type_id              float64\n",
       "body_type_id                     float64\n",
       "transmision_type_id              float64\n",
       "doors                            float64\n",
       "seatingcapacity                  float64\n",
       "colores_type_id                  float64\n",
       "dimensionsinmillimeterswidth     float64\n",
       "dimensionsinmillimetersheight    float64\n",
       "dimensionsinmillimeterslength    float64\n",
       "weight                           float64\n",
       "tankcapacityinliters             float64\n",
       "trunkcapacityinliters            float64\n",
       "consumptionurban                 float64\n",
       "consumptionmixed                 float64\n",
       "consumptionextraurban            float64\n",
       "co2emissionsgramsperkm           float64\n",
       "batteryvoltage                   float64\n",
       "batterykwh                       float64\n",
       "chargingtime                     float64\n",
       "chargingtimefast                 float64\n",
       "dtype: object"
      ]
     },
     "execution_count": 6,
     "metadata": {},
     "output_type": "execute_result"
    }
   ],
   "source": [
    "ventas_elec.dtypes"
   ]
  },
  {
   "cell_type": "code",
   "execution_count": 11,
   "metadata": {},
   "outputs": [],
   "source": [
    "ventas_elec['makeid'] = ventas_elec['makeid'].astype('category')\n",
    "ventas_elec['etiqueta_type_id'] = ventas_elec['etiqueta_type_id'].astype('category')\n",
    "ventas_elec['provinceid'] = ventas_elec['provinceid'].astype('category')\n",
    "ventas_elec['transmision_type_id'] = ventas_elec['transmision_type_id'].astype('category')\n",
    "ventas_elec['body_type_id'] = ventas_elec['body_type_id'].astype('category')\n",
    "ventas_elec['combustible_type_id'] = ventas_elec['combustible_type_id'].astype('category')\n",
    "ventas_elec['colores_type_id'] = ventas_elec['colores_type_id'].astype('category')\n",
    "ventas_elec['lPrice'] = np.log10(ventas_elec['price_amount'])"
   ]
  },
  {
   "cell_type": "code",
   "execution_count": 12,
   "metadata": {},
   "outputs": [
    {
     "data": {
      "text/plain": [
       "price_amount                      float64\n",
       "makeid                           category\n",
       "manufacturerprice                 float64\n",
       "km                                float64\n",
       "vehicleyear                       float64\n",
       "etiqueta_type_id                 category\n",
       "provinceid                       category\n",
       "horsepower                        float64\n",
       "maxspeed                          float64\n",
       "acceleration                      float64\n",
       "combustible_type_id              category\n",
       "body_type_id                     category\n",
       "transmision_type_id              category\n",
       "doors                             float64\n",
       "seatingcapacity                   float64\n",
       "colores_type_id                  category\n",
       "dimensionsinmillimeterswidth      float64\n",
       "dimensionsinmillimetersheight     float64\n",
       "dimensionsinmillimeterslength     float64\n",
       "weight                            float64\n",
       "tankcapacityinliters              float64\n",
       "trunkcapacityinliters             float64\n",
       "consumptionurban                  float64\n",
       "consumptionmixed                  float64\n",
       "consumptionextraurban             float64\n",
       "co2emissionsgramsperkm            float64\n",
       "batteryvoltage                    float64\n",
       "batterykwh                        float64\n",
       "chargingtime                      float64\n",
       "chargingtimefast                  float64\n",
       "lPrice                            float64\n",
       "dtype: object"
      ]
     },
     "execution_count": 12,
     "metadata": {},
     "output_type": "execute_result"
    }
   ],
   "source": [
    "ventas_elec.dtypes"
   ]
  },
  {
   "cell_type": "code",
   "execution_count": 15,
   "metadata": {},
   "outputs": [],
   "source": [
    "# Separamos en training y test\n",
    "ventas_oil_X = ventas_oil.drop(columns=['price_amount', 'lPrice'])\n",
    "ventas_oil_y = ventas_oil['lPrice']\n",
    "ventas_oil_X_train, ventas_oil_X_test, ventas_oil_y_train, ventas_oil_y_test = train_test_split(ventas_oil_X, ventas_oil_y, test_size=0.5, random_state=123)\n",
    "\n",
    "ventas_elec_X = ventas_elec.drop(columns=['price_amount', 'lPrice'])\n",
    "ventas_elec_y = ventas_elec['lPrice']\n",
    "ventas_elec_X_train, ventas_elec_X_test, ventas_elec_y_train, ventas_elec_y_test = train_test_split(ventas_elec_X, ventas_elec_y, test_size=0.5, random_state=123)\n"
   ]
  },
  {
   "cell_type": "code",
   "execution_count": 16,
   "metadata": {},
   "outputs": [
    {
     "name": "stdout",
     "output_type": "stream",
     "text": [
      "TRAIN: [    0     1     3 ... 77958 77960 77961] TEST: [    2     7     9 ... 77948 77959 77962]\n",
      "TRAIN: [    0     2     3 ... 77960 77961 77962] TEST: [    1     5    12 ... 77953 77955 77958]\n",
      "TRAIN: [    0     1     2 ... 77960 77961 77962] TEST: [    8    19    21 ... 77947 77950 77956]\n",
      "TRAIN: [    0     1     2 ... 77959 77960 77962] TEST: [    3    14    16 ... 77941 77954 77961]\n",
      "TRAIN: [    1     2     3 ... 77959 77961 77962] TEST: [    0     4     6 ... 77952 77957 77960]\n"
     ]
    }
   ],
   "source": [
    "# Crear objetos validacion cruzada para trial, tuning y assessment\n",
    "rk_trial = RepeatedKFold(n_splits=5, n_repeats=1, random_state=123)\n",
    "rk_tuning = RepeatedKFold(n_splits=5, n_repeats=1, random_state=456)\n",
    "rk_assessment = RepeatedKFold(n_splits=5, n_repeats=1, random_state=789)\n",
    "\n",
    "for train_index, test_index in kf.split(ventas_oil_X_train):\n",
    "    print(\"TRAIN:\", train_index, \"TEST:\", test_index)\n",
    "    X_train, X_test = ventas_oil_X_train.iloc[train_index], ventas_oil_X_train.iloc[test_index]\n",
    "    y_train, y_test = ventas_oil_y_train.iloc[train_index], ventas_oil_y_train.iloc[test_index]\n",
    "\n"
   ]
  }
 ],
 "metadata": {
  "kernelspec": {
   "display_name": "Python 3",
   "language": "python",
   "name": "python3"
  },
  "language_info": {
   "codemirror_mode": {
    "name": "ipython",
    "version": 3
   },
   "file_extension": ".py",
   "mimetype": "text/x-python",
   "name": "python",
   "nbconvert_exporter": "python",
   "pygments_lexer": "ipython3",
   "version": "3.12.0"
  }
 },
 "nbformat": 4,
 "nbformat_minor": 2
}
