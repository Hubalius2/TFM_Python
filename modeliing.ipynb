{
 "cells": [
  {
   "cell_type": "code",
   "execution_count": 1,
   "id": "initial_id",
   "metadata": {
    "ExecuteTime": {
     "end_time": "2024-04-03T21:01:45.988035Z",
     "start_time": "2024-04-03T21:01:32.501247Z"
    },
    "collapsed": true
   },
   "outputs": [
    {
     "name": "stderr",
     "output_type": "stream",
     "text": [
      "C:\\Users\\Pabma\\AppData\\Local\\Temp\\ipykernel_27632\\3539060139.py:2: DeprecationWarning: \n",
      "Pyarrow will become a required dependency of pandas in the next major release of pandas (pandas 3.0),\n",
      "(to allow more performant data types, such as the Arrow string type, and better interoperability with other libraries)\n",
      "but was not found to be installed on your system.\n",
      "If this would cause problems for you,\n",
      "please provide us feedback at https://github.com/pandas-dev/pandas/issues/54466\n",
      "        \n",
      "  import pandas as pd\n"
     ]
    }
   ],
   "source": [
    "import psycopg2\n",
    "import pandas as pd\n",
    "import matplotlib.pyplot as plt\n",
    "import numpy as np\n",
    "from sklearn.impute import KNNImputer\n",
    "from joblib import parallel_backend\n",
    "from sklearn.model_selection import train_test_split, RepeatedKFold\n",
    "from sklearn.metrics import mean_squared_error, mean_absolute_error, r2_score\n",
    "from sklearn.preprocessing import PowerTransformer, StandardScaler\n",
    "from sklearn.ensemble import RandomForestRegressor\n",
    "from sklearn.pipeline import Pipeline\n",
    "from sklearn.compose import ColumnTransformer\n",
    "from sklearn.model_selection import GridSearchCV\n",
    "from hummingbird.ml import convert, load"
   ]
  },
  {
   "cell_type": "code",
   "execution_count": 6,
   "id": "466e3fe3a0129752",
   "metadata": {
    "ExecuteTime": {
     "end_time": "2024-04-03T20:59:34.721865Z",
     "start_time": "2024-04-03T20:59:34.675236Z"
    },
    "collapsed": false
   },
   "outputs": [],
   "source": [
    "conn = psycopg2.connect(dbname='TFM_Coches', user='postgres', password='9170', host='127.0.0.1', port='5432')\n"
   ]
  },
  {
   "cell_type": "code",
   "execution_count": 4,
   "id": "60111446971f9b86",
   "metadata": {
    "ExecuteTime": {
     "end_time": "2024-04-03T07:25:42.067671Z",
     "start_time": "2024-04-03T07:25:40.236450Z"
    },
    "collapsed": false
   },
   "outputs": [
    {
     "name": "stderr",
     "output_type": "stream",
     "text": [
      "C:\\Users\\Pabma\\AppData\\Local\\Temp\\ipykernel_35248\\198567699.py:25: UserWarning: pandas only supports SQLAlchemy connectable (engine/connection) or database string URI or sqlite3 DBAPI2 connection. Other DBAPI2 objects are not tested. Please consider using SQLAlchemy.\n",
      "  ventas_df = pd.read_sql(query, conn)\n"
     ]
    },
    {
     "name": "stdout",
     "output_type": "stream",
     "text": [
      "  price_amount  makeid manufacturerprice      km vehicleyear  \\\n",
      "0         9599      77             21625  152720        2018   \n",
      "1         9990      22             21920  141485        2015   \n",
      "2         9990      22             21920  141485        2015   \n",
      "3         9900      84             14900  129000        2016   \n",
      "4         8460      90             15060  117000        2018   \n",
      "\n",
      "   etiqueta_type_id  provinceid horsepower maxspeed acceleration  ...  \\\n",
      "0                 1          41        110      195           11  ...   \n",
      "1                 1          46         99      180         11.5  ...   \n",
      "2                 1          30         99      180         11.5  ...   \n",
      "3                 5          28         75      168         14.3  ...   \n",
      "4                 1          46         75      167         14.7  ...   \n",
      "\n",
      "   tankcapacityinliters  trunkcapacityinliters  consumptionurban  \\\n",
      "0                    48                    370               4.2   \n",
      "1                    60                    408               4.4   \n",
      "2                    60                    408               4.4   \n",
      "3                    45                    300               3.5   \n",
      "4                    40                    355                 6   \n",
      "\n",
      "  consumptionmixed consumptionextraurban  co2emissionsgramsperkm  \\\n",
      "0              3.7                   3.3                      97   \n",
      "1              3.6                   3.2                      95   \n",
      "2              3.6                   3.2                      95   \n",
      "3              3.3                   3.1                      85   \n",
      "4              4.9                   4.3                     112   \n",
      "\n",
      "  batteryvoltage batterykwh chargingtime chargingtimefast  \n",
      "0              -          -            -                -  \n",
      "1              -          -            -                -  \n",
      "2              -          -            -                -  \n",
      "3              -          -            -                -  \n",
      "4              -          -            -                -  \n",
      "\n",
      "[5 rows x 30 columns]\n"
     ]
    }
   ],
   "source": [
    "cursor = conn.cursor()\n",
    "query = \"\"\"\n",
    "    SELECT v.price_amount, ft.makeid, ft.manufacturerprice, v.km, ft.vehicleyear,\n",
    "           v.etiqueta_type_id, p.provinceid, ft.horsepower, ft.maxspeed, ft.acceleration,\n",
    "           com.combustible_type_id, b.body_type_id, t.transmision_type_id,\n",
    "           ft.doors, ft.seatingcapacity, c.colores_type_id,\n",
    "           ft.dimensionsinmillimeterswidth, ft.dimensionsinmillimetersheight,\n",
    "           ft.dimensionsinmillimeterslength, ft.weight,\n",
    "           ft.tankcapacityinliters, ft.trunkcapacityinliters,\n",
    "           ft.consumptionurban, ft.consumptionmixed, ft.consumptionextraurban,\n",
    "           ft.co2emissionsgramsperkm, ft.batteryvoltage, ft.batterykwh,\n",
    "           ft.chargingtime, ft.chargingtimefast\n",
    "    FROM ventas v\n",
    "    INNER JOIN provincias p ON v.provinceid = p.provinceid\n",
    "    INNER JOIN fichas_tecnicas ft ON v.ficha_id = ft.id\n",
    "    INNER JOIN colores c ON ft.vehiclecolorid = c.colores_type_id\n",
    "    INNER JOIN transmision t ON ft.transmissiontypeid = t.transmision_type_id\n",
    "    INNER JOIN bodytype b ON ft.bodytypeid = b.body_type_id\n",
    "    INNER JOIN combustible com ON ft.fueltypeid = com.combustible_type_id\n",
    "    INNER JOIN etiqueta_medioambiental em ON v.etiqueta_type_id = em.etiqueta_type_id\n",
    "    INNER JOIN marcas m ON ft.makeid = m.makeid;\n",
    "\"\"\"\n",
    "\n",
    "# Ejecutar la consulta y guardar los resultados en un DataFrame de pandas\n",
    "ventas_df = pd.read_sql(query, conn)\n",
    "\n",
    "# Mostrar los primeros registros del DataFrame\n",
    "print(ventas_df.head())\n",
    "\n",
    "# Guardar el DataFrame como un archivo CSV\n",
    "ventas_df.to_csv('ventas_dataframe.csv', index=False)\n",
    "\n",
    "# Cerrar la conexión\n",
    "cursor.close()\n",
    "conn.close()"
   ]
  },
  {
   "cell_type": "code",
   "execution_count": 5,
   "id": "17039819414e9398",
   "metadata": {
    "ExecuteTime": {
     "end_time": "2024-04-03T07:25:42.072787Z",
     "start_time": "2024-04-03T07:25:42.068677Z"
    },
    "collapsed": false
   },
   "outputs": [
    {
     "name": "stdout",
     "output_type": "stream",
     "text": [
      "price_amount                     object\n",
      "makeid                            int64\n",
      "manufacturerprice                object\n",
      "km                               object\n",
      "vehicleyear                      object\n",
      "etiqueta_type_id                  int64\n",
      "provinceid                        int64\n",
      "horsepower                       object\n",
      "maxspeed                         object\n",
      "acceleration                     object\n",
      "combustible_type_id               int64\n",
      "body_type_id                      int64\n",
      "transmision_type_id               int64\n",
      "doors                            object\n",
      "seatingcapacity                  object\n",
      "colores_type_id                   int64\n",
      "dimensionsinmillimeterswidth     object\n",
      "dimensionsinmillimetersheight    object\n",
      "dimensionsinmillimeterslength    object\n",
      "weight                           object\n",
      "tankcapacityinliters             object\n",
      "trunkcapacityinliters            object\n",
      "consumptionurban                 object\n",
      "consumptionmixed                 object\n",
      "consumptionextraurban            object\n",
      "co2emissionsgramsperkm           object\n",
      "batteryvoltage                   object\n",
      "batterykwh                       object\n",
      "chargingtime                     object\n",
      "chargingtimefast                 object\n",
      "dtype: object\n"
     ]
    }
   ],
   "source": [
    "# Obtener los tipos de datos de cada columna\n",
    "tipos_de_dato = ventas_df.dtypes\n",
    "# Imprimir los tipos de datos\n",
    "print(tipos_de_dato)"
   ]
  },
  {
   "cell_type": "code",
   "execution_count": 6,
   "id": "15c8f861a1429fe",
   "metadata": {
    "ExecuteTime": {
     "end_time": "2024-04-03T07:25:43.464407Z",
     "start_time": "2024-04-03T07:25:42.072787Z"
    },
    "collapsed": false
   },
   "outputs": [],
   "source": [
    "ventas_df['price_amount'] = pd.to_numeric(ventas_df['price_amount'], errors='coerce')\n",
    "ventas_df['manufacturerprice'] = pd.to_numeric(ventas_df['manufacturerprice'], errors='coerce')\n",
    "ventas_df['km'] = pd.to_numeric(ventas_df['km'], errors='coerce')\n",
    "ventas_df['vehicleyear'] = pd.to_numeric(ventas_df['vehicleyear'], errors='coerce')\n",
    "ventas_df['horsepower'] = pd.to_numeric(ventas_df['horsepower'], errors='coerce')\n",
    "ventas_df['maxspeed'] = pd.to_numeric(ventas_df['maxspeed'], errors='coerce')\n",
    "ventas_df['acceleration'] = pd.to_numeric(ventas_df['acceleration'], errors='coerce')\n",
    "ventas_df['doors'] = pd.to_numeric(ventas_df['doors'], errors='coerce')\n",
    "ventas_df['seatingcapacity'] = pd.to_numeric(ventas_df['seatingcapacity'], errors='coerce')\n",
    "ventas_df['dimensionsinmillimeterswidth'] = pd.to_numeric(ventas_df['dimensionsinmillimeterswidth'], errors='coerce')\n",
    "ventas_df['dimensionsinmillimetersheight'] = pd.to_numeric(ventas_df['dimensionsinmillimetersheight'], errors='coerce')\n",
    "ventas_df['dimensionsinmillimeterslength'] = pd.to_numeric(ventas_df['dimensionsinmillimeterslength'], errors='coerce')\n",
    "ventas_df['weight'] = pd.to_numeric(ventas_df['weight'], errors='coerce')\n",
    "ventas_df['trunkcapacityinliters'] = pd.to_numeric(ventas_df['trunkcapacityinliters'], errors='coerce')\n",
    "ventas_df['tankcapacityinliters'] = pd.to_numeric(ventas_df['tankcapacityinliters'], errors='coerce')\n",
    "ventas_df['consumptionurban'] = pd.to_numeric(ventas_df['consumptionurban'], errors='coerce')\n",
    "ventas_df['consumptionmixed'] = pd.to_numeric(ventas_df['consumptionmixed'], errors='coerce')\n",
    "ventas_df['consumptionextraurban'] = pd.to_numeric(ventas_df['consumptionextraurban'], errors='coerce')\n",
    "ventas_df['co2emissionsgramsperkm'] = pd.to_numeric(ventas_df['co2emissionsgramsperkm'], errors='coerce')\n",
    "ventas_df['batteryvoltage'] = pd.to_numeric(ventas_df['batteryvoltage'], errors='coerce')\n",
    "ventas_df['batterykwh'] = pd.to_numeric(ventas_df['batterykwh'], errors='coerce')\n",
    "ventas_df['chargingtime'] = pd.to_numeric(ventas_df['chargingtime'], errors='coerce')\n",
    "ventas_df['chargingtimefast'] = pd.to_numeric(ventas_df['chargingtimefast'], errors='coerce')"
   ]
  },
  {
   "cell_type": "code",
   "execution_count": 2,
   "id": "2103aa2de5ad4fb0",
   "metadata": {
    "ExecuteTime": {
     "end_time": "2024-04-03T20:56:08.736200Z",
     "start_time": "2024-04-03T20:56:08.415947Z"
    },
    "collapsed": false
   },
   "outputs": [
    {
     "ename": "NameError",
     "evalue": "name 'ventas_df' is not defined",
     "output_type": "error",
     "traceback": [
      "\u001b[1;31m---------------------------------------------------------------------------\u001b[0m",
      "\u001b[1;31mNameError\u001b[0m                                 Traceback (most recent call last)",
      "Cell \u001b[1;32mIn[2], line 1\u001b[0m\n\u001b[1;32m----> 1\u001b[0m ventas_df[\u001b[38;5;124m'\u001b[39m\u001b[38;5;124mmakeid\u001b[39m\u001b[38;5;124m'\u001b[39m] \u001b[38;5;241m=\u001b[39m \u001b[43mventas_df\u001b[49m[\u001b[38;5;124m'\u001b[39m\u001b[38;5;124mmakeid\u001b[39m\u001b[38;5;124m'\u001b[39m]\u001b[38;5;241m.\u001b[39mastype(\u001b[38;5;124m'\u001b[39m\u001b[38;5;124mcategory\u001b[39m\u001b[38;5;124m'\u001b[39m)\n\u001b[0;32m      2\u001b[0m ventas_df[\u001b[38;5;124m'\u001b[39m\u001b[38;5;124metiqueta_type_id\u001b[39m\u001b[38;5;124m'\u001b[39m] \u001b[38;5;241m=\u001b[39m ventas_df[\u001b[38;5;124m'\u001b[39m\u001b[38;5;124metiqueta_type_id\u001b[39m\u001b[38;5;124m'\u001b[39m]\u001b[38;5;241m.\u001b[39mastype(\u001b[38;5;124m'\u001b[39m\u001b[38;5;124mcategory\u001b[39m\u001b[38;5;124m'\u001b[39m)\n\u001b[0;32m      3\u001b[0m ventas_df[\u001b[38;5;124m'\u001b[39m\u001b[38;5;124mprovinceid\u001b[39m\u001b[38;5;124m'\u001b[39m] \u001b[38;5;241m=\u001b[39m ventas_df[\u001b[38;5;124m'\u001b[39m\u001b[38;5;124mprovinceid\u001b[39m\u001b[38;5;124m'\u001b[39m]\u001b[38;5;241m.\u001b[39mastype(\u001b[38;5;124m'\u001b[39m\u001b[38;5;124mcategory\u001b[39m\u001b[38;5;124m'\u001b[39m)\n",
      "\u001b[1;31mNameError\u001b[0m: name 'ventas_df' is not defined"
     ]
    }
   ],
   "source": [
    "ventas_df['makeid'] = ventas_df['makeid'].astype('category')\n",
    "ventas_df['etiqueta_type_id'] = ventas_df['etiqueta_type_id'].astype('category')\n",
    "ventas_df['provinceid'] = ventas_df['provinceid'].astype('category')\n",
    "ventas_df['transmision_type_id'] = ventas_df['transmision_type_id'].astype('category')\n",
    "ventas_df['body_type_id'] = ventas_df['body_type_id'].astype('category')\n",
    "ventas_df['combustible_type_id'] = ventas_df['combustible_type_id'].astype('category')\n",
    "ventas_df['colores_type_id'] = ventas_df['colores_type_id'].astype('category')\n",
    "\n",
    "# Mostrar los niveles de cada columna categórica\n",
    "print(ventas_df['makeid'].cat.categories)\n",
    "print(ventas_df['etiqueta_type_id'].cat.categories)\n",
    "print(ventas_df['provinceid'].cat.categories)\n",
    "print(ventas_df['transmision_type_id'].cat.categories)\n",
    "print(ventas_df['body_type_id'].cat.categories)\n",
    "print(ventas_df['combustible_type_id'].cat.categories)\n",
    "print(ventas_df['colores_type_id'].cat.categories)"
   ]
  },
  {
   "cell_type": "code",
   "execution_count": 8,
   "id": "ed696f39ae15d6b4",
   "metadata": {
    "ExecuteTime": {
     "end_time": "2024-04-03T07:25:43.494642Z",
     "start_time": "2024-04-03T07:25:43.486605Z"
    },
    "collapsed": false
   },
   "outputs": [
    {
     "name": "stdout",
     "output_type": "stream",
     "text": [
      "   price_amount makeid  manufacturerprice        km  vehicleyear  \\\n",
      "0          9599     77            21625.0  152720.0         2018   \n",
      "1          9990     22            21920.0  141485.0         2015   \n",
      "2          9990     22            21920.0  141485.0         2015   \n",
      "3          9900     84            14900.0  129000.0         2016   \n",
      "4          8460     90            15060.0  117000.0         2018   \n",
      "\n",
      "  etiqueta_type_id provinceid  horsepower  maxspeed  acceleration  ...  \\\n",
      "0                1         41       110.0     195.0          11.0  ...   \n",
      "1                1         46        99.0     180.0          11.5  ...   \n",
      "2                1         30        99.0     180.0          11.5  ...   \n",
      "3                5         28        75.0     168.0          14.3  ...   \n",
      "4                1         46        75.0     167.0          14.7  ...   \n",
      "\n",
      "  tankcapacityinliters trunkcapacityinliters consumptionurban  \\\n",
      "0                 48.0                 370.0              4.2   \n",
      "1                 60.0                 408.0              4.4   \n",
      "2                 60.0                 408.0              4.4   \n",
      "3                 45.0                 300.0              3.5   \n",
      "4                 40.0                 355.0              6.0   \n",
      "\n",
      "   consumptionmixed  consumptionextraurban co2emissionsgramsperkm  \\\n",
      "0               3.7                    3.3                   97.0   \n",
      "1               3.6                    3.2                   95.0   \n",
      "2               3.6                    3.2                   95.0   \n",
      "3               3.3                    3.1                   85.0   \n",
      "4               4.9                    4.3                  112.0   \n",
      "\n",
      "   batteryvoltage  batterykwh  chargingtime  chargingtimefast  \n",
      "0             NaN         NaN           NaN               NaN  \n",
      "1             NaN         NaN           NaN               NaN  \n",
      "2             NaN         NaN           NaN               NaN  \n",
      "3             NaN         NaN           NaN               NaN  \n",
      "4             NaN         NaN           NaN               NaN  \n",
      "\n",
      "[5 rows x 30 columns]\n"
     ]
    }
   ],
   "source": [
    "print(ventas_df.head())"
   ]
  },
  {
   "cell_type": "code",
   "execution_count": 9,
   "id": "e5b7e62bea8c1653",
   "metadata": {
    "ExecuteTime": {
     "end_time": "2024-04-03T07:25:43.743073Z",
     "start_time": "2024-04-03T07:25:43.495670Z"
    },
    "collapsed": false
   },
   "outputs": [
    {
     "data": {
      "image/png": "[encoded data removed]",
      "text/plain": [
       "<Figure size 640x480 with 1 Axes>"
      ]
     },
     "metadata": {},
     "output_type": "display_data"
    }
   ],
   "source": [
    "plt.hist(ventas_df['price_amount'], bins=range(0, int(max(ventas_df['price_amount'])) + 5000, 5000), color='skyblue', edgecolor='black')\n",
    "\n",
    "# Añadir etiquetas y título\n",
    "plt.title('Distribución de precio venta')\n",
    "plt.xlabel('Precio')\n",
    "plt.ylabel('Frecuencia')\n",
    "\n",
    "# Mostrar el histograma\n",
    "plt.show()"
   ]
  },
  {
   "cell_type": "code",
   "execution_count": 10,
   "id": "ed4f4fdcecd74066",
   "metadata": {
    "ExecuteTime": {
     "end_time": "2024-04-03T07:25:43.854821Z",
     "start_time": "2024-04-03T07:25:43.744079Z"
    },
    "collapsed": false
   },
   "outputs": [
    {
     "data": {
      "image/png": "[encoded data removed]",
      "text/plain": [
       "<Figure size 640x480 with 1 Axes>"
      ]
     },
     "metadata": {},
     "output_type": "display_data"
    }
   ],
   "source": [
    "ventas_df = ventas_df[ventas_df['price_amount'] <= 150000]\n",
    "\n",
    "# Crear el histograma\n",
    "plt.hist(ventas_df['price_amount'], bins=range(0, int(max(ventas_df['price_amount'])) + 5000, 5000), color='skyblue', edgecolor='black')\n",
    "\n",
    "# Añadir etiquetas y título\n",
    "plt.title('Distribución de precio venta')\n",
    "plt.xlabel('Precio')\n",
    "plt.ylabel('Frecuencia')\n",
    "\n",
    "# Mostrar el histograma\n",
    "plt.show()"
   ]
  },
  {
   "cell_type": "code",
   "execution_count": 11,
   "id": "77206162948f430d",
   "metadata": {
    "ExecuteTime": {
     "end_time": "2024-04-03T07:25:43.915811Z",
     "start_time": "2024-04-03T07:25:43.856826Z"
    },
    "collapsed": false
   },
   "outputs": [
    {
     "name": "stdout",
     "output_type": "stream",
     "text": [
      "       makeid  manufacturerprice        km  vehicleyear etiqueta_type_id  \\\n",
      "4          90            15060.0  117000.0         2018                1   \n",
      "24        105            22775.0   94000.0         2019                1   \n",
      "27         77            17050.0   63992.0         2019                5   \n",
      "30         22            14050.0   89950.0         2016                1   \n",
      "32         90            15060.0   63000.0         2018                5   \n",
      "...       ...                ...       ...          ...              ...   \n",
      "165743     68                NaN   20000.0         2001                2   \n",
      "165746     41                NaN  183000.0         2003                2   \n",
      "165747     22                NaN   10000.0         1982                2   \n",
      "165750     10            30954.0  138600.0         2017                1   \n",
      "165753     77            18400.0  188000.0         2006                1   \n",
      "\n",
      "       provinceid  horsepower  maxspeed  acceleration combustible_type_id  \\\n",
      "4              46        75.0     167.0          14.7                   2   \n",
      "24              8       115.0     196.0           9.9                   2   \n",
      "27             46        90.0     175.0          13.2                   2   \n",
      "30             28        68.0     164.0          16.3                   2   \n",
      "32              8        75.0     167.0          14.7                   2   \n",
      "...           ...         ...       ...           ...                 ...   \n",
      "165743          8         NaN       NaN           NaN                   2   \n",
      "165746         46         NaN       NaN           NaN                   2   \n",
      "165747         44         NaN       NaN           NaN                   2   \n",
      "165750         28       150.0     212.0           8.5                   2   \n",
      "165753         46       105.0     187.0          12.2                   2   \n",
      "\n",
      "        ... dimensionsinmillimetersheight dimensionsinmillimeterslength  \\\n",
      "4       ...                        1444.0                        4059.0   \n",
      "24      ...                        1492.0                        4258.0   \n",
      "27      ...                        1481.0                        4021.0   \n",
      "30      ...                        1474.0                        3996.0   \n",
      "32      ...                        1444.0                        4059.0   \n",
      "...     ...                           ...                           ...   \n",
      "165743  ...                           NaN                           NaN   \n",
      "165746  ...                           NaN                           NaN   \n",
      "165747  ...                           NaN                           NaN   \n",
      "165750  ...                        1508.0                        4191.0   \n",
      "165753  ...                        1435.0                        4290.0   \n",
      "\n",
      "        weight  tankcapacityinliters trunkcapacityinliters  consumptionurban  \\\n",
      "4       1091.0                  40.0                 355.0               6.0   \n",
      "24      1216.0                  50.0                 380.0               NaN   \n",
      "27      1163.0                  45.0                 285.0               7.2   \n",
      "30      1051.0                  45.0                 300.0               5.7   \n",
      "32      1091.0                  40.0                 355.0               6.0   \n",
      "...        ...                   ...                   ...               ...   \n",
      "165743     NaN                   NaN                   NaN               NaN   \n",
      "165746     NaN                   NaN                   NaN               NaN   \n",
      "165747     NaN                   NaN                   NaN               NaN   \n",
      "165750  1340.0                  50.0                 355.0               6.8   \n",
      "165753  1245.0                  52.0                 302.0               8.6   \n",
      "\n",
      "        consumptionmixed  consumptionextraurban  co2emissionsgramsperkm  \\\n",
      "4                    4.9                    4.3                   112.0   \n",
      "24                   4.8                    NaN                   109.0   \n",
      "27                   5.7                    4.8                   132.0   \n",
      "30                   4.7                    4.1                   109.0   \n",
      "32                   4.9                    4.3                   112.0   \n",
      "...                  ...                    ...                     ...   \n",
      "165743               NaN                    NaN                     NaN   \n",
      "165746               NaN                    NaN                     NaN   \n",
      "165747               NaN                    NaN                     NaN   \n",
      "165750               5.7                    5.0                   130.0   \n",
      "165753               6.6                    5.4                   158.0   \n",
      "\n",
      "          lPrice  \n",
      "4       3.927370  \n",
      "24      4.175802  \n",
      "27      3.995635  \n",
      "30      3.986727  \n",
      "32      4.130012  \n",
      "...          ...  \n",
      "165743  3.716003  \n",
      "165746  3.505150  \n",
      "165747  3.929419  \n",
      "165750  4.328380  \n",
      "165753  3.361728  \n",
      "\n",
      "[61386 rows x 26 columns]\n"
     ]
    },
    {
     "name": "stderr",
     "output_type": "stream",
     "text": [
      "C:\\Users\\Pabma\\AppData\\Local\\Temp\\ipykernel_35248\\1442615485.py:3: SettingWithCopyWarning: \n",
      "A value is trying to be set on a copy of a slice from a DataFrame.\n",
      "Try using .loc[row_indexer,col_indexer] = value instead\n",
      "\n",
      "See the caveats in the documentation: https://pandas.pydata.org/pandas-docs/stable/user_guide/indexing.html#returning-a-view-versus-a-copy\n",
      "  ventas_df_combustible['lPrice'] = np.log10(ventas_df_combustible['price_amount'])\n"
     ]
    }
   ],
   "source": [
    "ventas_df_combustible = ventas_df[ventas_df['combustible_type_id'].astype(str) == \"2\"]\n",
    "\n",
    "ventas_df_combustible['lPrice'] = np.log10(ventas_df_combustible['price_amount'])\n",
    "\n",
    "# Eliminar las columnas batteryvoltage, batterykwh, chargingtimefast y chargingtime\n",
    "ventas_df_combustible = ventas_df_combustible.drop(columns=['batteryvoltage', 'batterykwh', 'chargingtimefast', 'chargingtime', 'price_amount'])\n",
    "# Mostrar el dataframe resultante\n",
    "print(ventas_df_combustible)"
   ]
  },
  {
   "cell_type": "code",
   "execution_count": 15,
   "id": "21f257dcd82e28d2",
   "metadata": {
    "ExecuteTime": {
     "end_time": "2024-04-03T07:31:15.410301Z",
     "start_time": "2024-04-03T07:31:15.406234Z"
    },
    "collapsed": false
   },
   "outputs": [
    {
     "name": "stdout",
     "output_type": "stream",
     "text": [
      "Index(['makeid', 'manufacturerprice', 'km', 'vehicleyear', 'etiqueta_type_id',\n",
      "       'provinceid', 'horsepower', 'maxspeed', 'acceleration',\n",
      "       'combustible_type_id', 'body_type_id', 'transmision_type_id', 'doors',\n",
      "       'seatingcapacity', 'colores_type_id', 'dimensionsinmillimeterswidth',\n",
      "       'dimensionsinmillimetersheight', 'dimensionsinmillimeterslength',\n",
      "       'weight', 'tankcapacityinliters', 'trunkcapacityinliters',\n",
      "       'consumptionurban', 'consumptionmixed', 'consumptionextraurban',\n",
      "       'co2emissionsgramsperkm', 'lPrice'],\n",
      "      dtype='object')\n"
     ]
    }
   ],
   "source": [
    "\n",
    "print(ventas_df_combustible_imputed.columns)"
   ]
  },
  {
   "cell_type": "code",
   "execution_count": 10,
   "id": "79e9cb5414648abe",
   "metadata": {
    "ExecuteTime": {
     "end_time": "2024-04-03T21:04:50.844657Z",
     "start_time": "2024-04-03T21:04:50.819734Z"
    },
    "collapsed": false
   },
   "outputs": [],
   "source": [
    "# Dividir el conjunto de datos en entrenamiento y prueba\n",
    "\n",
    "#Solo la primera vez\n",
    "#ventas_df_combustible_imputed = ventas_df_combustible_imputed.drop(columns='price_amount')\n",
    "\n",
    "X = ventas_df_combustible_imputed.drop(columns=['lPrice'])\n",
    "y = ventas_df_combustible_imputed['lPrice']\n",
    "\n",
    "X_train, X_test, y_train, y_test = train_test_split(X, y, test_size= 0.25, random_state=123)\n",
    "\n",
    "\n",
    "k1, k2 = 5, 1\n",
    "rfk = RepeatedKFold(n_splits=k1, n_repeats=k2, random_state= 456)\n",
    "def rmse(y_true, y_pred):\n",
    "    return np.sqrt(mean_squared_error(y_true, y_pred))\n",
    "\n",
    "def mae(y_true, y_pred):\n",
    "    return mean_absolute_error(y_true, y_pred)\n",
    "\n",
    "def rsq(y_true, y_pred):\n",
    "    return r2_score(y_true, y_pred)\n",
    "\n",
    "numeric_features = X_train.select_dtypes(include=['int', 'float']).columns\n",
    "preprocessor = ColumnTransformer(\n",
    "    transformers=[\n",
    "        ('yeo_johnson', PowerTransformer(method='yeo-johnson'), ['km']),\n",
    "        ('scaling', StandardScaler(), numeric_features)\n",
    "    ])\n"
   ]
  },
  {
   "cell_type": "code",
   "execution_count": 12,
   "id": "6a4426b69cf38a8d",
   "metadata": {
    "ExecuteTime": {
     "end_time": "2024-04-03T21:30:11.569980Z",
     "start_time": "2024-04-03T21:29:10.737415Z"
    },
    "collapsed": false
   },
   "outputs": [],
   "source": [
    "rf_model = RandomForestRegressor(n_estimators=1000, min_samples_leaf=15)\n",
    "\n",
    "# Pipeline\n",
    "rf_pipeline = Pipeline(steps=[('preprocessor', preprocessor), ('model', rf_model)])\n",
    "\n",
    "# Entrenar el modelo\n",
    "with parallel_backend('threading', n_jobs=8):\n",
    "    rf_pipeline.fit(X_train, y_train)"
   ]
  },
  {
   "cell_type": "code",
   "execution_count": 13,
   "id": "7c7905dd02a3b39d",
   "metadata": {
    "ExecuteTime": {
     "end_time": "2024-04-03T21:29:05.326155Z",
     "start_time": "2024-04-03T21:29:05.292625Z"
    },
    "collapsed": false
   },
   "outputs": [],
   "source": [
    "y_pred = rf_pipeline.predict(X_test)\n",
    "rmse_value = rmse(y_test, y_pred)\n",
    "mae_value = mae(y_test, y_pred)\n",
    "rsq_value = rsq(y_test, y_pred)\n",
    "metricS = {'RMSE': rmse_value, 'MAE': mae_value, 'R^2': rsq_value}"
   ]
  },
  {
   "cell_type": "code",
   "execution_count": 14,
   "id": "58bc86ecb7dd51a8",
   "metadata": {
    "ExecuteTime": {
     "end_time": "2024-04-03T07:32:30.391580Z",
     "start_time": "2024-04-03T07:32:30.388516Z"
    },
    "collapsed": false
   },
   "outputs": [
    {
     "name": "stdout",
     "output_type": "stream",
     "text": [
      "{'RMSE': 0.11241113139121767, 'MAE': 0.06342943299896471, 'R^2': 0.8830225509227916}\n"
     ]
    }
   ],
   "source": [
    "print(metricS)"
   ]
  },
  {
   "cell_type": "code",
   "execution_count": 20,
   "id": "aae2f0018f8237d9",
   "metadata": {
    "ExecuteTime": {
     "end_time": "2024-04-03T08:02:25.960349Z",
     "start_time": "2024-04-03T07:32:39.523012Z"
    },
    "collapsed": false
   },
   "outputs": [
    {
     "name": "stdout",
     "output_type": "stream",
     "text": [
      "Mejores parámetros: {'min_samples_leaf': 10, 'n_estimators': 500}\n"
     ]
    }
   ],
   "source": [
    "# Definir los parámetros que quieres ajustar y sus posibles valores\n",
    "param_grid = {\n",
    "    'n_estimators': [100, 500, 1000],\n",
    "    'min_samples_leaf': [10, 15, 20]\n",
    "}\n",
    "\n",
    "rf_model = RandomForestRegressor()\n",
    "grid_search = GridSearchCV(estimator=rf_model, param_grid=param_grid, cv=5)\n",
    "with parallel_backend('threading', n_jobs=5):\n",
    "    grid_search.fit(X_train, y_train)\n",
    "\n",
    "print(\"Mejores parámetros:\", grid_search.best_params_)\n",
    "best_rf_model = grid_search.best_estimator_"
   ]
  },
  {
   "cell_type": "code",
   "execution_count": 21,
   "id": "fcde0539695ea01b",
   "metadata": {
    "ExecuteTime": {
     "end_time": "2024-04-03T08:06:36.890006Z",
     "start_time": "2024-04-03T08:06:34.066441Z"
    },
    "collapsed": false
   },
   "outputs": [
    {
     "name": "stdout",
     "output_type": "stream",
     "text": [
      "RandomForestRegressor(min_samples_leaf=10, n_estimators=500)\n",
      "MAE (Entrenamiento): 0.04924409406030166\n",
      "RMSE (Entrenamiento): 0.08896777440775139\n",
      "R^2 (Entrenamiento): 0.9258526653281272\n"
     ]
    },
    {
     "name": "stderr",
     "output_type": "stream",
     "text": [
      "C:\\Users\\Pabma\\AppData\\Roaming\\Python\\Python312\\site-packages\\sklearn\\metrics\\_regression.py:483: FutureWarning: 'squared' is deprecated in version 1.4 and will be removed in 1.6. To calculate the root mean squared error, use the function'root_mean_squared_error'.\n",
      "  warnings.warn(\n"
     ]
    }
   ],
   "source": [
    "print(best_rf_model)\n",
    "y_train_pred = grid_search.best_estimator_.predict(X_train)\n",
    "mae_train = mean_absolute_error(y_train, y_train_pred)\n",
    "rmse_train = mean_squared_error(y_train, y_train_pred, squared=False)\n",
    "r2_train = r2_score(y_train, y_train_pred)\n",
    "print(\"MAE (Entrenamiento):\", mae_train)\n",
    "print(\"RMSE (Entrenamiento):\", rmse_train)\n",
    "print(\"R^2 (Entrenamiento):\", r2_train)"
   ]
  },
  {
   "cell_type": "code",
   "execution_count": 22,
   "id": "ac481b15a6e5b4ea",
   "metadata": {
    "ExecuteTime": {
     "end_time": "2024-04-03T08:06:44.321377Z",
     "start_time": "2024-04-03T08:06:43.451762Z"
    },
    "collapsed": false
   },
   "outputs": [
    {
     "name": "stdout",
     "output_type": "stream",
     "text": [
      "RandomForestRegressor(min_samples_leaf=10, n_estimators=500)\n",
      "MAE (Test): 0.0616326636277965\n",
      "RMSE (Test): 0.11029264462187216\n",
      "R^2 (Test): 0.8873900904627705\n"
     ]
    },
    {
     "name": "stderr",
     "output_type": "stream",
     "text": [
      "C:\\Users\\Pabma\\AppData\\Roaming\\Python\\Python312\\site-packages\\sklearn\\metrics\\_regression.py:483: FutureWarning: 'squared' is deprecated in version 1.4 and will be removed in 1.6. To calculate the root mean squared error, use the function'root_mean_squared_error'.\n",
      "  warnings.warn(\n"
     ]
    }
   ],
   "source": [
    "print(best_rf_model)\n",
    "y_test_pred = grid_search.best_estimator_.predict(X_test)\n",
    "mae_train = mean_absolute_error(y_test, y_test_pred)\n",
    "rmse_train = mean_squared_error(y_test, y_test_pred, squared=False)\n",
    "r2_train = r2_score(y_test, y_test_pred)\n",
    "print(\"MAE (Test):\", mae_train)\n",
    "print(\"RMSE (Test):\", rmse_train)\n",
    "print(\"R^2 (Test):\", r2_train)"
   ]
  },
  {
   "cell_type": "code",
   "execution_count": 25,
   "id": "8a9fdfd6578e38bc",
   "metadata": {
    "ExecuteTime": {
     "end_time": "2024-04-03T08:10:17.471105Z",
     "start_time": "2024-04-03T08:10:17.447752Z"
    },
    "collapsed": false
   },
   "outputs": [
    {
     "ename": "TypeError",
     "evalue": "cannot pickle 'module' object",
     "output_type": "error",
     "traceback": [
      "\u001b[1;31m---------------------------------------------------------------------------\u001b[0m",
      "\u001b[1;31mTypeError\u001b[0m                                 Traceback (most recent call last)",
      "Cell \u001b[1;32mIn[25], line 8\u001b[0m\n\u001b[0;32m      6\u001b[0m \u001b[38;5;66;03m# Guardar las variables en un archivo pickle\u001b[39;00m\n\u001b[0;32m      7\u001b[0m \u001b[38;5;28;01mwith\u001b[39;00m \u001b[38;5;28mopen\u001b[39m(\u001b[38;5;124m'\u001b[39m\u001b[38;5;124mvariables.pkl\u001b[39m\u001b[38;5;124m'\u001b[39m, \u001b[38;5;124m'\u001b[39m\u001b[38;5;124mwb\u001b[39m\u001b[38;5;124m'\u001b[39m) \u001b[38;5;28;01mas\u001b[39;00m f:\n\u001b[1;32m----> 8\u001b[0m     \u001b[43mpickle\u001b[49m\u001b[38;5;241;43m.\u001b[39;49m\u001b[43mdump\u001b[49m\u001b[43m(\u001b[49m\u001b[43mvariables\u001b[49m\u001b[43m,\u001b[49m\u001b[43m \u001b[49m\u001b[43mf\u001b[49m\u001b[43m)\u001b[49m\n",
      "\u001b[1;31mTypeError\u001b[0m: cannot pickle 'module' object"
     ]
    }
   ],
   "source": [
    "import pickle\n",
    "\n",
    "# Obtener todas las variables locales en el ámbito actual\n",
    "variables = locals()\n",
    "\n",
    "# Guardar las variables en un archivo pickle\n",
    "with open('variables.pkl', 'wb') as f:\n",
    "    pickle.dump(variables, f)"
   ]
  },
  {
   "cell_type": "code",
   "execution_count": 30,
   "id": "8a0f1f67a1ca1e6e",
   "metadata": {
    "ExecuteTime": {
     "end_time": "2024-04-03T08:38:08.661618Z",
     "start_time": "2024-04-03T08:38:08.256911Z"
    },
    "collapsed": false
   },
   "outputs": [],
   "source": [
    "import pickle\n",
    "\n",
    "# Crear un diccionario con las variables que deseas guardar\n",
    "variables_a_guardar = {'grid_search': grid_search, 'rf_pipeline': rf_pipeline, 'ventas_df': ventas_df, 'ventas_df_combustible': ventas_df_combustible, 'ventas_df_combustible_imputed': ventas_df_combustible_imputed}\n",
    "\n",
    "# Guardar las variables en un archivo pickle\n",
    "with open('variables.pkl', 'wb') as f:\n",
    "    pickle.dump(variables_a_guardar, f)\n"
   ]
  },
  {
   "cell_type": "code",
   "execution_count": 3,
   "id": "8865c083695f77a5",
   "metadata": {
    "ExecuteTime": {
     "end_time": "2024-04-03T21:04:37.396972Z",
     "start_time": "2024-04-03T21:04:36.868362Z"
    },
    "collapsed": false
   },
   "outputs": [
    {
     "name": "stdout",
     "output_type": "stream",
     "text": [
      "Index(['price_amount', 'makeid', 'manufacturerprice', 'km', 'vehicleyear',\n",
      "       'etiqueta_type_id', 'provinceid', 'horsepower', 'maxspeed',\n",
      "       'acceleration', 'combustible_type_id', 'body_type_id',\n",
      "       'transmision_type_id', 'doors', 'seatingcapacity', 'colores_type_id',\n",
      "       'dimensionsinmillimeterswidth', 'dimensionsinmillimetersheight',\n",
      "       'dimensionsinmillimeterslength', 'weight', 'tankcapacityinliters',\n",
      "       'trunkcapacityinliters', 'consumptionurban', 'consumptionmixed',\n",
      "       'consumptionextraurban', 'co2emissionsgramsperkm', 'batteryvoltage',\n",
      "       'batterykwh', 'chargingtime', 'chargingtimefast'],\n",
      "      dtype='object')\n",
      "Mejores parámetros: {'min_samples_leaf': 10, 'n_estimators': 500}\n"
     ]
    }
   ],
   "source": [
    "import pickle\n",
    "\n",
    "# Cargar las variables desde el archivo pickle\n",
    "with open('variables.pkl', 'rb') as f:\n",
    "    variables_cargadas = pickle.load(f)\n",
    "\n",
    "# Asignar las variables cargadas a las variables locales\n",
    "ventas_df = variables_cargadas['ventas_df']\n",
    "grid_search = variables_cargadas['grid_search']\n",
    "ventas_df_combustible_imputed = variables_cargadas['ventas_df_combustible_imputed']\n",
    "ventas_df_combustible = variables_cargadas['ventas_df_combustible']\n",
    "# Ahora puedes usar las variables cargadas en tu código\n",
    "print(ventas_df.columns)\n",
    "print(\"Mejores parámetros:\", grid_search.best_params_)"
   ]
  },
  {
   "cell_type": "code",
   "execution_count": null,
   "id": "4fbbc854245aac26",
   "metadata": {
    "ExecuteTime": {
     "start_time": "2024-04-03T07:30:00.778856Z"
    },
    "collapsed": false
   },
   "outputs": [],
   "source": [
    "%who"
   ]
  },
  {
   "cell_type": "code",
   "execution_count": null,
   "id": "708be5435915e808",
   "metadata": {
    "ExecuteTime": {
     "start_time": "2024-04-03T07:30:00.778856Z"
    },
    "collapsed": false
   },
   "outputs": [],
   "source": [
    "%whos"
   ]
  },
  {
   "cell_type": "code",
   "execution_count": null,
   "id": "e35f50a7893fe547",
   "metadata": {
    "ExecuteTime": {
     "start_time": "2024-04-03T07:30:00.780362Z"
    },
    "collapsed": false
   },
   "outputs": [],
   "source": [
    "dir()"
   ]
  },
  {
   "cell_type": "code",
   "execution_count": 4,
   "id": "9264c4dc93f6cd00",
   "metadata": {
    "ExecuteTime": {
     "end_time": "2024-04-03T22:02:02.360323Z",
     "start_time": "2024-04-03T22:02:02.349586Z"
    },
    "collapsed": false
   },
   "outputs": [],
   "source": [
    "from sklearn.ensemble import RandomForestClassifier\n",
    "from sklearn.datasets import load_breast_cancer\n",
    "from hummingbird.ml import convert\n",
    "X, y = load_breast_cancer(return_X_y=True)\n",
    "skl_model = RandomForestClassifier(n_estimators=500, max_depth=7)"
   ]
  },
  {
   "cell_type": "code",
   "execution_count": 5,
   "id": "616317a0e5fc575d",
   "metadata": {
    "ExecuteTime": {
     "end_time": "2024-04-03T22:02:05.474619Z",
     "start_time": "2024-04-03T22:02:04.774953Z"
    },
    "collapsed": false
   },
   "outputs": [],
   "source": [
    "skl_model.fit(X, y)\n",
    "pred = skl_model.predict(X)"
   ]
  },
  {
   "cell_type": "code",
   "execution_count": 6,
   "id": "9792d641fefe2b0f",
   "metadata": {
    "ExecuteTime": {
     "end_time": "2024-04-03T22:02:06.240292Z",
     "start_time": "2024-04-03T22:02:06.081210Z"
    },
    "collapsed": false
   },
   "outputs": [],
   "source": [
    "model = convert(skl_model, 'torch')\n",
    "pred_cpu_hb = model.predict(X)"
   ]
  },
  {
   "cell_type": "code",
   "execution_count": 7,
   "id": "9c8475d53910151d",
   "metadata": {
    "ExecuteTime": {
     "end_time": "2024-04-03T21:31:06.280663Z",
     "start_time": "2024-04-03T21:31:06.229653Z"
    },
    "collapsed": false
   },
   "outputs": [],
   "source": [
    "model.to('cuda')\n",
    "pred_gpu_hb = model.predict(X)"
   ]
  },
  {
   "cell_type": "code",
   "execution_count": null,
   "id": "31407537ab6f85cb",
   "metadata": {
    "ExecuteTime": {
     "end_time": "2024-04-03T21:56:12.534038Z",
     "start_time": "2024-04-03T21:56:01.985457Z"
    },
    "collapsed": false
   },
   "outputs": [],
   "source": [
    "rf_model_gpu = convert(rf_model, 'torch', extra_config={'tree_implementation': 'gemm'})\n",
    "rf_model_gpu.to('cuda')\n",
    "with parallel_backend('threading', n_jobs=3):\n",
    "    rf_model_gpu.fit(X_train, y_train)"
   ]
  },
  {
   "cell_type": "code",
   "execution_count": 16,
   "id": "c6a627078bcc26c3",
   "metadata": {
    "ExecuteTime": {
     "end_time": "2024-04-03T22:08:49.551350Z",
     "start_time": "2024-04-03T22:08:49.520034Z"
    },
    "collapsed": false
   },
   "outputs": [
    {
     "name": "stdout",
     "output_type": "stream",
     "text": [
      "1\n",
      "NVIDIA GeForce RTX 4060 Laptop GPU\n"
     ]
    }
   ],
   "source": [
    "import torch\n",
    "print(torch.cuda.device_count())\n",
    "print(torch.cuda.get_device_name(0))"
   ]
  },
  {
   "cell_type": "code",
   "execution_count": 22,
   "id": "365649ca9c252970",
   "metadata": {
    "collapsed": false
   },
   "outputs": [],
   "source": [
    "rf_model_gpu = convert(rf_model, 'torch', extra_config={'tree_implementation': 'gemm'})\n",
    "rf_model_gpu.to('cuda')\n",
    "if next(rf_model_gpu.parameters()).is_cuda:\n",
    "    print(\"El modelo está siendo ejecutado en la GPU.\")\n",
    "else:\n",
    "    print(\"El modelo está siendo ejecutado en la CPU.\")"
   ]
  }
 ],
 "metadata": {
  "kernelspec": {
   "display_name": "Python 3",
   "language": "python",
   "name": "python3"
  },
  "language_info": {
   "codemirror_mode": {
    "name": "ipython",
    "version": 3
   },
   "file_extension": ".py",
   "mimetype": "text/x-python",
   "name": "python",
   "nbconvert_exporter": "python",
   "pygments_lexer": "ipython3",
   "version": "3.12.0"
  }
 },
 "nbformat": 4,
 "nbformat_minor": 5
}
